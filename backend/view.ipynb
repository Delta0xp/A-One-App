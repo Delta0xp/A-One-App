{
 "cells": [
  {
   "cell_type": "code",
   "execution_count": null,
   "id": "ddd8af94",
   "metadata": {},
   "outputs": [
    {
     "ename": "",
     "evalue": "",
     "output_type": "error",
     "traceback": [
      "\u001b[1;31mRunning cells with 'compvis (Python 3.9.18)' requires the ipykernel package.\n",
      "\u001b[1;31m<a href='command:jupyter.createPythonEnvAndSelectController'>Create a Python Environment</a> with the required packages."
     ]
    }
   ],
   "source": [
    "# 📦 Import libraries\n",
    "import sqlite3\n",
    "import pandas as pd\n",
    "\n",
    "# 📂 Path to your SQLite DB\n",
    "db_path = \"backend/Database.db\"  # Adjust if running from another dir\n",
    "\n",
    "# 🔌 Connect to the database\n",
    "conn = sqlite3.connect(db_path)\n",
    "\n",
    "# 🧠 Get all table names\n",
    "tables = pd.read_sql_query(\n",
    "    \"SELECT name FROM sqlite_master WHERE type='table';\", conn)\n",
    "print(\"📋 Tables in the DB:\")\n",
    "print(tables)\n",
    "\n",
    "# ✅ Example: Read the 'doctors' table\n",
    "doctors_df = pd.read_sql_query(\"SELECT * FROM doctors;\", conn)\n",
    "print(\"\\n👨‍⚕️ Doctor Records:\")\n",
    "display(doctors_df)\n",
    "\n",
    "# ✅ Example: Read the 'users' table\n",
    "users_df = pd.read_sql_query(\"SELECT * FROM users;\", conn)\n",
    "print(\"\\n👤 User Records:\")\n",
    "display(users_df)\n",
    "\n",
    "# 🔒 Close the connection\n",
    "conn.close()\n"
   ]
  }
 ],
 "metadata": {
  "kernelspec": {
   "display_name": "compvis",
   "language": "python",
   "name": "python3"
  },
  "language_info": {
   "name": "python",
   "version": "3.9.18"
  }
 },
 "nbformat": 4,
 "nbformat_minor": 5
}
